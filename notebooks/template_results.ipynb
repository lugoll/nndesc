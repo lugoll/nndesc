{
 "cells": [
  {
   "cell_type": "code",
   "execution_count": 1,
   "id": "5b1ef639",
   "metadata": {},
   "outputs": [],
   "source": [
    "import onnx\n",
    "\n",
    "from generator.loader.onnx_loader import KerasGraphExtractor, PyTorchGraphExtractor\n",
    "from generator.selector.selection import Selector\n",
    "from generator.lexicalizer.template import TemplateEngine"
   ]
  },
  {
   "cell_type": "code",
   "execution_count": 2,
   "id": "9f729a86",
   "metadata": {},
   "outputs": [],
   "source": [
    "def run_pipeline(onnx_filepath, model_origin='keras'):\n",
    "    conv_onnx = onnx.load(onnx_filepath)\n",
    "    if model_origin == 'pytorch':\n",
    "        extractor = PyTorchGraphExtractor(conv_onnx)\n",
    "    elif model_origin == 'keras':\n",
    "        extractor = KerasGraphExtractor(conv_onnx)\n",
    "    else:\n",
    "        return None\n",
    "\n",
    "    selector = Selector(extractor.graph_structure)\n",
    "    selected_graph_summary = selector.select()\n",
    "\n",
    "    text_engine = TemplateEngine(selected_graph_summary)\n",
    "    text = text_engine.render()\n",
    "    return text"
   ]
  },
  {
   "cell_type": "markdown",
   "id": "25c28a72",
   "metadata": {},
   "source": [
    "## Tests\n",
    "\n",
    "The Tests were runned on the following models which can be found in test/models/<framework>:\n",
    "- my_cnn_0\n",
    "- my_lstm\n",
    "- my_gru\n",
    "- my_complex_cnn_1\n",
    "- my_complex_cnn_2\n",
    "- my_complex_cnn_3"
   ]
  },
  {
   "cell_type": "markdown",
   "id": "763a2f0c",
   "metadata": {},
   "source": [
    "### Example for My CNN 0"
   ]
  },
  {
   "cell_type": "code",
   "execution_count": 3,
   "id": "0262c3d2",
   "metadata": {},
   "outputs": [
    {
     "data": {
      "text/plain": [
       "'The first layer of the Convolutional Neural Network is a Convolutional Layer with 32 filters of the size 3x3 and a ReLU activation function. For downsampling, the previous layer is followed by a MaxPool Layer. This layer is followed by a Convolutional Layer with 64 filters of the size 3x3 and a ReLU activation function. For downsampling, the previous layer is followed by a MaxPool Layer. With a Flatten Layer the data will be brought in to a one-dimensional shape. The last layer is a Dense Layer with a Softmax activation function.'"
      ]
     },
     "execution_count": 3,
     "metadata": {},
     "output_type": "execute_result"
    }
   ],
   "source": [
    "run_pipeline('../test/models/pytorch/saved_models/my_cnn.onnx', model_origin='pytorch')"
   ]
  },
  {
   "cell_type": "markdown",
   "id": "e3d64966",
   "metadata": {},
   "source": [
    "### Example for My GRU"
   ]
  },
  {
   "cell_type": "code",
   "execution_count": 4,
   "id": "3567a82e",
   "metadata": {},
   "outputs": [
    {
     "data": {
      "text/plain": [
       "'The first layer of the Recurrent Neural Network is a unidirectional Gated Recurrent Unit Cell with a hidden size of 64.The last layer is a Dense Layer with a logarithmic Softmax activation function.'"
      ]
     },
     "execution_count": 4,
     "metadata": {},
     "output_type": "execute_result"
    }
   ],
   "source": [
    "run_pipeline('../test/models/pytorch/saved_models/my_gru.onnx', model_origin='pytorch')"
   ]
  },
  {
   "cell_type": "markdown",
   "id": "fba09f89",
   "metadata": {},
   "source": [
    "### Example for My LSTM"
   ]
  },
  {
   "cell_type": "code",
   "execution_count": 5,
   "id": "af50b02a",
   "metadata": {},
   "outputs": [
    {
     "data": {
      "text/plain": [
       "'The first layer of the Recurrent Neural Network is a bidirectional Long Short Term Memory Cell with a hidden size of 64. This layer is followed by a bidirectional Long Short Term Memory Cell with a hidden size of 64. The last layer is a Dense Layer with a Sigmoid activation function.'"
      ]
     },
     "execution_count": 5,
     "metadata": {},
     "output_type": "execute_result"
    }
   ],
   "source": [
    "run_pipeline('../test/models/keras/saved_models/my_lstm.onnx', model_origin='keras')"
   ]
  },
  {
   "cell_type": "markdown",
   "id": "1da11562",
   "metadata": {},
   "source": [
    "### Example for My Complex CNN 1"
   ]
  },
  {
   "cell_type": "code",
   "execution_count": 6,
   "id": "439c0ee8",
   "metadata": {},
   "outputs": [
    {
     "data": {
      "text/plain": [
       "'The Convolutional Neural Network consists of 6 weighted Layer, for which mostly Convolutional Layer and some MaxPool Layer are used . In all Convolutional Layers a kernel size of 3x3 gets applied to the data. Through the whole network, the amount of output filters in the Convolutional Layers are equal with the amount 16 filters. For downsampling a stride of 2 is used in some of the Convolutional Layers. Overall the Sigmoid, ReLU and Softmax activation functions are used in the network.The last layer in the network is a Dense Layer with the Softmax activation function.'"
      ]
     },
     "execution_count": 6,
     "metadata": {},
     "output_type": "execute_result"
    }
   ],
   "source": [
    "run_pipeline('../test/models/pytorch/saved_models/my_complex_cnn_1.onnx', model_origin='pytorch')"
   ]
  },
  {
   "cell_type": "markdown",
   "id": "66fe432c",
   "metadata": {},
   "source": [
    "### Example for My Complex CNN 2"
   ]
  },
  {
   "cell_type": "code",
   "execution_count": 7,
   "id": "b0cd15b8",
   "metadata": {},
   "outputs": [
    {
     "data": {
      "text/plain": [
       "'The Convolutional Neural Network consists of 7 weighted Layer, for which mostly Convolutional Layer and some MaxPool Layer are used . In all Convolutional Layers a kernel size of 3x3 gets applied to the data. Through the network the amount of output filters change as followed: In the 1 part they increase. In the 2 part they decrease. For downsampling only the MaxPool Layers are used. Overall in the network mostly the ReLU activation function is used, but also the Softmax is used 1 times.The last layer in the network is a Dense Layer with the Softmax activation function.'"
      ]
     },
     "execution_count": 7,
     "metadata": {},
     "output_type": "execute_result"
    }
   ],
   "source": [
    "run_pipeline('../test/models/pytorch/saved_models/my_complex_cnn_2.onnx', model_origin='pytorch')"
   ]
  },
  {
   "cell_type": "markdown",
   "id": "ed3a81fc",
   "metadata": {},
   "source": [
    "### Example for My Complex CNN 3"
   ]
  },
  {
   "cell_type": "code",
   "execution_count": 8,
   "id": "0d780f44",
   "metadata": {},
   "outputs": [
    {
     "data": {
      "text/plain": [
       "'The Convolutional Neural Network consists of 7 weighted Layer, for which mostly Convolutional Layer and some MaxPool Layer are used . In the Convolutional Layers mostly 3x3 are used. Furthermore 2 layers have a 7x7 kernel. Through the whole network, the amount of output filters in the Convolutional Layers increases from 32 to 128 filters. For downsampling only the MaxPool Layers are used. Overall in the network mostly the ReLU activation function is used, but also the Softmax is used 1 times.The last layer in the network is a Dense Layer with the Softmax activation function.'"
      ]
     },
     "execution_count": 8,
     "metadata": {},
     "output_type": "execute_result"
    }
   ],
   "source": [
    "run_pipeline('../test/models/pytorch/saved_models/my_complex_cnn_3.onnx', model_origin='pytorch')"
   ]
  },
  {
   "cell_type": "markdown",
   "id": "bb727f65",
   "metadata": {},
   "source": [
    "## Evaluation\n",
    "\n",
    "To Evaluate the Prototype the following publicated models were used:\n",
    "- vgg16\n",
    "- mobile_net\n",
    "- mobile_net_v3_small\n",
    "- resnet"
   ]
  },
  {
   "cell_type": "markdown",
   "id": "ae7a6bd6",
   "metadata": {},
   "source": [
    "### Result on the VGG16"
   ]
  },
  {
   "cell_type": "code",
   "execution_count": 9,
   "id": "1939c54c",
   "metadata": {},
   "outputs": [
    {
     "data": {
      "text/plain": [
       "'The Convolutional Neural Network consists of 16 weighted Layer, for which mostly Convolutional Layer and some MaxPool Layer are used . In all Convolutional Layers a kernel size of 3x3 gets applied to the data. Through the whole network, the amount of output filters in the Convolutional Layers increases from 64 to 512 filters. For downsampling only the MaxPool Layers are used. Overall in the network mostly the ReLU activation function is used, but also the Softmax is used 1 times.The last layer in the network is a Dense Layer with the Softmax activation function.'"
      ]
     },
     "execution_count": 9,
     "metadata": {},
     "output_type": "execute_result"
    }
   ],
   "source": [
    "run_pipeline('../test/models/keras/saved_models/vgg16.onnx', model_origin='keras')"
   ]
  },
  {
   "cell_type": "markdown",
   "id": "4ceaee20",
   "metadata": {},
   "source": [
    "### Result on the MobileNet"
   ]
  },
  {
   "cell_type": "code",
   "execution_count": 10,
   "id": "846589ea",
   "metadata": {
    "scrolled": true
   },
   "outputs": [
    {
     "data": {
      "text/plain": [
       "'The Convolutional Neural Network consists of 28 weighted Layer, for which mostly Convolutional Layer and some MaxPool Layer are used . In the Convolutional Layers mostly 1x1 are used. Furthermore 14 layers have a 3x3 kernel. Through the whole network, the amount of output filters in the Convolutional Layers are equal with the amount 1000 filters. For downsampling a stride of 2 is used in some of the Convolutional Layers.The last layer in the network is a Flatten Layer.'"
      ]
     },
     "execution_count": 10,
     "metadata": {},
     "output_type": "execute_result"
    }
   ],
   "source": [
    "run_pipeline('../test/models/keras/saved_models/mobile_net.onnx', model_origin='keras')"
   ]
  },
  {
   "cell_type": "markdown",
   "id": "f2b89306",
   "metadata": {},
   "source": [
    "### Result on the MobileNet_V3"
   ]
  },
  {
   "cell_type": "code",
   "execution_count": 13,
   "id": "88226bd4",
   "metadata": {
    "scrolled": true
   },
   "outputs": [
    {
     "data": {
      "text/plain": [
       "'The Convolutional Neural Network consists of 54 weighted Layer, for which mostly Convolutional Layer and some MaxPool Layer are used . In the Convolutional Layers several different kernel sizes like 1x1, 5x5 and 3x3 are used. Through the network the amount of output filters change as followed: In the 1 part they increase. In the 2 part they decrease. In the 3 part they increase. In the 4 part they decrease. In the 5 part they increase. In the 6 part they decrease. In the 7 part they increase. In the 8 part they decrease. In the 9 part they increase. In the 10 part they decrease. In the 11 part they increase. In the 12 part they decrease. In the 13 part they increase. In the 14 part they decrease. In the 15 part they increase. In the 16 part they decrease. In the 17 part they increase. In the 18 part they decrease. For downsampling a stride of 2 is used in some of the Convolutional Layers. Overall in the network only ReLU activation functions are used.The last layer in the network is a Flatten Layer.'"
      ]
     },
     "execution_count": 13,
     "metadata": {},
     "output_type": "execute_result"
    }
   ],
   "source": [
    "run_pipeline('../test/models/keras/saved_models/mobile_net_v3_small.onnx', model_origin='keras')"
   ]
  },
  {
   "cell_type": "markdown",
   "id": "3bfc3ed3",
   "metadata": {},
   "source": [
    "### Result on the Resnet50"
   ]
  },
  {
   "cell_type": "code",
   "execution_count": 14,
   "id": "4b28fd7b",
   "metadata": {
    "scrolled": true
   },
   "outputs": [
    {
     "data": {
      "text/plain": [
       "'The Convolutional Neural Network consists of 54 weighted Layer, for which mostly Convolutional Layer and some MaxPool Layer are used . In the Convolutional Layers several different kernel sizes like 1x1, 3x3 and 7x7 are used. For downsampling there are the MaxPool Layers and a stride of 2 is used in some of the Convolutional Layers. Overall in the network mostly the ReLU activation function is used, but also the Softmax is used 1 times.The last layer in the network is a Dense Layer with the Softmax activation function.'"
      ]
     },
     "execution_count": 14,
     "metadata": {},
     "output_type": "execute_result"
    }
   ],
   "source": [
    "run_pipeline('../test/models/keras/saved_models/resnet.onnx', model_origin='keras')"
   ]
  }
 ],
 "metadata": {
  "kernelspec": {
   "display_name": "Python 3 (ipykernel)",
   "language": "python",
   "name": "python3"
  },
  "language_info": {
   "codemirror_mode": {
    "name": "ipython",
    "version": 3
   },
   "file_extension": ".py",
   "mimetype": "text/x-python",
   "name": "python",
   "nbconvert_exporter": "python",
   "pygments_lexer": "ipython3",
   "version": "3.10.7"
  }
 },
 "nbformat": 4,
 "nbformat_minor": 5
}
