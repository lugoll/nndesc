{
 "cells": [
  {
   "cell_type": "code",
   "execution_count": 4,
   "id": "5b1ef639",
   "metadata": {},
   "outputs": [],
   "source": [
    "import onnx\n",
    "\n",
    "from generator.loader.onnx_loader import KerasGraphExtractor, PyTorchGraphExtractor\n",
    "from generator.selector.selection import Selector\n",
    "from generator.lexicalizer.template import TemplateEngine"
   ]
  },
  {
   "cell_type": "code",
   "execution_count": null,
   "id": "9f729a86",
   "metadata": {},
   "outputs": [],
   "source": []
  },
  {
   "cell_type": "code",
   "execution_count": 7,
   "id": "0262c3d2",
   "metadata": {},
   "outputs": [
    {
     "data": {
      "text/plain": [
       "'The first layer of the Convolutional Neural Network is a Convolutional Layer with 32 filters of the size 3x3 and a ReLU activation function. For downsampling, the previous layer is followed by a MaxPool Layer. This layer is followed by a Convolutional Layer with 64 filters of the size 3x3 and a ReLU activation function. For downsampling, the previous layer is followed by a MaxPool Layer. With a Flatten Layer the data will be brought in to a one-dimensional shape. The last layer is a Dense Layer with a Softmax activation function.'"
      ]
     },
     "execution_count": 7,
     "metadata": {},
     "output_type": "execute_result"
    }
   ],
   "source": [
    "conv_onnx = onnx.load('../test/models/pytorch/saved_models/my_cnn.onnx')\n",
    "extractor = PyTorchGraphExtractor(conv_onnx)\n",
    "\n",
    "selector = Selector(extractor.graph_structure)\n",
    "selected_graph_summary = selector.select()\n",
    "\n",
    "text_engine = TemplateEngine(selected_graph_summary)\n",
    "text = text_engine.render()\n",
    "text"
   ]
  },
  {
   "cell_type": "code",
   "execution_count": null,
   "id": "c1d652bf",
   "metadata": {},
   "outputs": [],
   "source": []
  },
  {
   "cell_type": "code",
   "execution_count": 8,
   "id": "3567a82e",
   "metadata": {},
   "outputs": [
    {
     "data": {
      "text/plain": [
       "'The first layer of the Recurrent Neural Network is a unidirectional Gated Recurrent Unit Cell with a hidden size of 64.The last layer is a Dense Layer with a logarithmic Softmax activation function.'"
      ]
     },
     "execution_count": 8,
     "metadata": {},
     "output_type": "execute_result"
    }
   ],
   "source": [
    "conv_onnx = onnx.load('../test/models/pytorch/saved_models/my_gru.onnx')\n",
    "extractor = PyTorchGraphExtractor(conv_onnx)\n",
    "\n",
    "selector = Selector(extractor.graph_structure)\n",
    "selected_graph_summary = selector.select()\n",
    "\n",
    "text_engine = TemplateEngine(selected_graph_summary)\n",
    "text = text_engine.render()\n",
    "text"
   ]
  },
  {
   "cell_type": "code",
   "execution_count": null,
   "id": "9beec4f2",
   "metadata": {},
   "outputs": [],
   "source": []
  },
  {
   "cell_type": "code",
   "execution_count": 10,
   "id": "439c0ee8",
   "metadata": {},
   "outputs": [
    {
     "data": {
      "text/plain": [
       "'The first layer of the Recurrent Neural Network is a bidirectional Long Short Term Memory Cell with a hidden size of 64. This layer is followed by a bidirectional Long Short Term Memory Cell with a hidden size of 64. The last layer is a Dense Layer with a Sigmoid activation function.'"
      ]
     },
     "execution_count": 10,
     "metadata": {},
     "output_type": "execute_result"
    }
   ],
   "source": [
    "conv_onnx = onnx.load('../test/models/keras/saved_models/my_lstm.onnx')\n",
    "extractor = KerasGraphExtractor(conv_onnx)\n",
    "\n",
    "selector = Selector(extractor.graph_structure)\n",
    "selected_graph_summary = selector.select()\n",
    "\n",
    "text_engine = TemplateEngine(selected_graph_summary)\n",
    "text = text_engine.render()\n",
    "text"
   ]
  },
  {
   "cell_type": "code",
   "execution_count": null,
   "id": "290934cc",
   "metadata": {},
   "outputs": [],
   "source": []
  },
  {
   "cell_type": "code",
   "execution_count": 11,
   "id": "1939c54c",
   "metadata": {},
   "outputs": [
    {
     "data": {
      "text/plain": [
       "'The first layer of the Convolutional Neural Network is a Convolutional Layer with 64 filters of the size 3x3 and a ReLU activation function. This layer is followed by a Convolutional Layer with 64 filters of the size 3x3 and a ReLU activation function. For downsampling, the previous layer is followed by a MaxPool Layer. This layer is followed by a Convolutional Layer with 128 filters of the size 3x3 and a ReLU activation function. This layer is followed by a Convolutional Layer with 128 filters of the size 3x3 and a ReLU activation function. For downsampling, the previous layer is followed by a MaxPool Layer. This layer is followed by a Convolutional Layer with 256 filters of the size 3x3 and a ReLU activation function. This layer is followed by a Convolutional Layer with 256 filters of the size 3x3 and a ReLU activation function. This layer is followed by a Convolutional Layer with 256 filters of the size 3x3 and a ReLU activation function. For downsampling, the previous layer is followed by a MaxPool Layer. This layer is followed by a Convolutional Layer with 512 filters of the size 3x3 and a ReLU activation function. This layer is followed by a Convolutional Layer with 512 filters of the size 3x3 and a ReLU activation function. This layer is followed by a Convolutional Layer with 512 filters of the size 3x3 and a ReLU activation function. For downsampling, the previous layer is followed by a MaxPool Layer. This layer is followed by a Convolutional Layer with 512 filters of the size 3x3 and a ReLU activation function. This layer is followed by a Convolutional Layer with 512 filters of the size 3x3 and a ReLU activation function. This layer is followed by a Convolutional Layer with 512 filters of the size 3x3 and a ReLU activation function. For downsampling, the previous layer is followed by a MaxPool Layer. With a Flatten Layer the data will be brought in to a one-dimensional shape. This layer is followed by a Dense Layer with a ReLU activation function. This layer is followed by a Dense Layer with a ReLU activation function. The last layer is a Dense Layer with a Softmax activation function.'"
      ]
     },
     "execution_count": 11,
     "metadata": {},
     "output_type": "execute_result"
    }
   ],
   "source": [
    "conv_onnx = onnx.load('../test/models/keras/saved_models/vgg16.onnx')\n",
    "extractor = KerasGraphExtractor(conv_onnx)\n",
    "\n",
    "selector = Selector(extractor.graph_structure)\n",
    "selected_graph_summary = selector.select()\n",
    "\n",
    "text_engine = TemplateEngine(selected_graph_summary)\n",
    "text = text_engine.render()\n",
    "text"
   ]
  }
 ],
 "metadata": {
  "kernelspec": {
   "display_name": "Python 3 (ipykernel)",
   "language": "python",
   "name": "python3"
  },
  "language_info": {
   "codemirror_mode": {
    "name": "ipython",
    "version": 3
   },
   "file_extension": ".py",
   "mimetype": "text/x-python",
   "name": "python",
   "nbconvert_exporter": "python",
   "pygments_lexer": "ipython3",
   "version": "3.10.5"
  }
 },
 "nbformat": 4,
 "nbformat_minor": 5
}
