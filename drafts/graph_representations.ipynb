{
 "cells": [
  {
   "cell_type": "code",
   "execution_count": 1,
   "metadata": {},
   "outputs": [],
   "source": [
    "from test.models.keras.mnist_conv_net import model as keras_conv_model\n",
    "from test.models.pytorch.mnist_conv_net import model as pytorch_conv_net\n",
    "from torchsummary import summary\n",
    "from typing import Any\n",
    "from generator.loader.onnx_loader import KerasGraphExtractor, PyTorchGraphExtractor\n",
    "\n",
    "import onnx"
   ]
  },
  {
   "cell_type": "code",
   "execution_count": 10,
   "metadata": {
    "pycharm": {
     "name": "#%%\n"
    }
   },
   "outputs": [
    {
     "name": "stdout",
     "output_type": "stream",
     "text": [
      "Model: \"sequential\"\n",
      "___________________________________________________________________________\n",
      " Layer (type)                    Output Shape                  Param #     \n",
      "===========================================================================\n",
      " conv2d (Conv2D)                 (None, 26, 26, 32)            320         \n",
      "                                                                           \n",
      " max_pooling2d (MaxPooling2D)    (None, 13, 13, 32)            0           \n",
      "                                                                           \n",
      " conv2d_1 (Conv2D)               (None, 11, 11, 64)            18496       \n",
      "                                                                           \n",
      " max_pooling2d_1 (MaxPooling2D)  (None, 5, 5, 64)              0           \n",
      "                                                                           \n",
      " flatten (Flatten)               (None, 1600)                  0           \n",
      "                                                                           \n",
      " dropout (Dropout)               (None, 1600)                  0           \n",
      "                                                                           \n",
      " dense (Dense)                   (None, 10)                    16010       \n",
      "                                                                           \n",
      "===========================================================================\n",
      "Total params: 34,826\n",
      "Trainable params: 34,826\n",
      "Non-trainable params: 0\n",
      "___________________________________________________________________________\n"
     ]
    }
   ],
   "source": [
    "keras_conv_model.summary(line_length=75)"
   ]
  },
  {
   "cell_type": "code",
   "execution_count": 7,
   "metadata": {
    "pycharm": {
     "name": "#%%\n"
    }
   },
   "outputs": [
    {
     "name": "stdout",
     "output_type": "stream",
     "text": [
      "----------------------------------------------------------------\n",
      "        Layer (type)               Output Shape         Param #\n",
      "================================================================\n",
      "            Conv2d-1           [-1, 32, 26, 26]             320\n",
      "              ReLU-2           [-1, 32, 26, 26]               0\n",
      "         MaxPool2d-3           [-1, 32, 13, 13]               0\n",
      "            Conv2d-4           [-1, 64, 11, 11]          18,496\n",
      "              ReLU-5           [-1, 64, 11, 11]               0\n",
      "         MaxPool2d-6             [-1, 64, 5, 5]               0\n",
      "           Flatten-7                 [-1, 1600]               0\n",
      "           Dropout-8                 [-1, 1600]               0\n",
      "            Linear-9                   [-1, 10]          16,010\n",
      "          Softmax-10                   [-1, 10]               0\n",
      "================================================================\n",
      "Total params: 34,826\n",
      "Trainable params: 34,826\n",
      "Non-trainable params: 0\n",
      "----------------------------------------------------------------\n",
      "Input size (MB): 0.00\n",
      "Forward/backward pass size (MB): 0.53\n",
      "Params size (MB): 0.13\n",
      "Estimated Total Size (MB): 0.66\n",
      "----------------------------------------------------------------\n"
     ]
    }
   ],
   "source": [
    "summary(pytorch_conv_net, (1,28,28), device='cpu',)"
   ]
  },
  {
   "cell_type": "code",
   "execution_count": 4,
   "metadata": {
    "pycharm": {
     "name": "#%%\n"
    }
   },
   "outputs": [],
   "source": [
    "keras_conv_onnx = onnx.load('../test/models/keras/saved_models/my_cnn.onnx')\n",
    "pytorch_conv_onnx = onnx.load('../test/models/pytorch/my_cnn_params.onnx')"
   ]
  },
  {
   "cell_type": "code",
   "execution_count": 5,
   "metadata": {
    "pycharm": {
     "name": "#%%\n"
    }
   },
   "outputs": [],
   "source": [
    "keras_nodes = keras_conv_onnx.graph.node\n",
    "pytorch_nodes = pytorch_conv_onnx.graph.node"
   ]
  },
  {
   "cell_type": "code",
   "execution_count": 6,
   "metadata": {},
   "outputs": [],
   "source": [
    "keras_extractor = KerasGraphExtractor(keras_conv_onnx)\n",
    "pytorch_extractor = PyTorchGraphExtractor(pytorch_conv_onnx)"
   ]
  },
  {
   "cell_type": "code",
   "execution_count": 7,
   "metadata": {
    "pycharm": {
     "name": "#%%\n"
    }
   },
   "outputs": [
    {
     "data": {
      "text/plain": [
       "[('StatefulPartitionedCall/sequential/conv2d/BiasAdd',\n",
       "  {'type': 'conv',\n",
       "   'filter': 32,\n",
       "   'pads': [0, 0, 0, 0],\n",
       "   'strides': [1, 1],\n",
       "   'kernel_shape': [3, 3]}),\n",
       " ('StatefulPartitionedCall/sequential/conv2d/Relu', {'type': 'relu'}),\n",
       " ('StatefulPartitionedCall/sequential/max_pooling2d/MaxPool',\n",
       "  {'type': 'maxpool', 'strides': [2, 2], 'kernel_shape': [2, 2]}),\n",
       " ('StatefulPartitionedCall/sequential/conv2d_1/BiasAdd',\n",
       "  {'type': 'conv',\n",
       "   'filter': 64,\n",
       "   'pads': [0, 0, 0, 0],\n",
       "   'strides': [1, 1],\n",
       "   'kernel_shape': [3, 3]}),\n",
       " ('StatefulPartitionedCall/sequential/conv2d_1/Relu', {'type': 'relu'}),\n",
       " ('StatefulPartitionedCall/sequential/max_pooling2d_1/MaxPool',\n",
       "  {'type': 'maxpool', 'strides': [2, 2], 'kernel_shape': [2, 2]}),\n",
       " ('StatefulPartitionedCall/sequential/flatten/Reshape', {'type': 'flatten'}),\n",
       " ('StatefulPartitionedCall/sequential/dense/MatMul_StatefulPartitionedCall/sequential/dense/BiasAdd',\n",
       "  {'type': 'dense', 'input': 1600, 'output': 10}),\n",
       " ('StatefulPartitionedCall/sequential/dense/Softmax', {'type': 'softmax'})]"
      ]
     },
     "execution_count": 7,
     "metadata": {},
     "output_type": "execute_result"
    }
   ],
   "source": [
    "keras_extractor.graph_structure"
   ]
  },
  {
   "cell_type": "code",
   "execution_count": 8,
   "metadata": {},
   "outputs": [
    {
     "data": {
      "text/plain": [
       "[('Conv_0',\n",
       "  {'type': 'conv',\n",
       "   'filter': 32,\n",
       "   'kernel_shape': [3, 3],\n",
       "   'pads': [0, 0, 0, 0],\n",
       "   'strides': [1, 1]}),\n",
       " ('Relu_1', {'type': 'relu'}),\n",
       " ('MaxPool_2', {'type': 'maxpool', 'kernel_shape': [2, 2], 'strides': [2, 2]}),\n",
       " ('Conv_3',\n",
       "  {'type': 'conv',\n",
       "   'filter': 64,\n",
       "   'kernel_shape': [3, 3],\n",
       "   'pads': [0, 0, 0, 0],\n",
       "   'strides': [1, 1]}),\n",
       " ('Relu_4', {'type': 'relu'}),\n",
       " ('MaxPool_5', {'type': 'maxpool', 'kernel_shape': [2, 2], 'strides': [2, 2]}),\n",
       " ('Flatten_6', {'type': 'flatten'}),\n",
       " ('Gemm_10', {'type': 'dense', 'input': 1600, 'output': 10}),\n",
       " ('Softmax_11', {'type': 'softmax'})]"
      ]
     },
     "execution_count": 8,
     "metadata": {},
     "output_type": "execute_result"
    }
   ],
   "source": [
    "pytorch_extractor.graph_structure"
   ]
  },
  {
   "cell_type": "code",
   "execution_count": 9,
   "metadata": {},
   "outputs": [
    {
     "data": {
      "text/plain": [
       "[{'type': 'conv',\n",
       "  'filter': 32,\n",
       "  'pads': [0, 0, 0, 0],\n",
       "  'strides': [1, 1],\n",
       "  'kernel_shape': [3, 3]},\n",
       " {'type': 'relu'},\n",
       " {'type': 'maxpool', 'strides': [2, 2], 'kernel_shape': [2, 2]},\n",
       " {'type': 'conv',\n",
       "  'filter': 64,\n",
       "  'pads': [0, 0, 0, 0],\n",
       "  'strides': [1, 1],\n",
       "  'kernel_shape': [3, 3]},\n",
       " {'type': 'relu'},\n",
       " {'type': 'maxpool', 'strides': [2, 2], 'kernel_shape': [2, 2]},\n",
       " {'type': 'flatten'},\n",
       " {'type': 'dense', 'input': 1600, 'output': 10},\n",
       " {'type': 'softmax'}]"
      ]
     },
     "execution_count": 9,
     "metadata": {},
     "output_type": "execute_result"
    }
   ],
   "source": [
    "keras_graph_unified = [n for name, n in keras_extractor.graph_structure]\n",
    "keras_graph_unified"
   ]
  },
  {
   "cell_type": "code",
   "execution_count": 10,
   "metadata": {},
   "outputs": [
    {
     "data": {
      "text/plain": [
       "[{'type': 'conv',\n",
       "  'filter': 32,\n",
       "  'kernel_shape': [3, 3],\n",
       "  'pads': [0, 0, 0, 0],\n",
       "  'strides': [1, 1]},\n",
       " {'type': 'relu'},\n",
       " {'type': 'maxpool', 'kernel_shape': [2, 2], 'strides': [2, 2]},\n",
       " {'type': 'conv',\n",
       "  'filter': 64,\n",
       "  'kernel_shape': [3, 3],\n",
       "  'pads': [0, 0, 0, 0],\n",
       "  'strides': [1, 1]},\n",
       " {'type': 'relu'},\n",
       " {'type': 'maxpool', 'kernel_shape': [2, 2], 'strides': [2, 2]},\n",
       " {'type': 'flatten'},\n",
       " {'type': 'dense', 'input': 1600, 'output': 10},\n",
       " {'type': 'softmax'}]"
      ]
     },
     "execution_count": 10,
     "metadata": {},
     "output_type": "execute_result"
    }
   ],
   "source": [
    "pytorch_graph_unified = [n for name, n in pytorch_extractor.graph_structure]\n",
    "pytorch_graph_unified"
   ]
  },
  {
   "cell_type": "code",
   "execution_count": 11,
   "metadata": {},
   "outputs": [
    {
     "data": {
      "text/plain": [
       "True"
      ]
     },
     "execution_count": 11,
     "metadata": {},
     "output_type": "execute_result"
    }
   ],
   "source": [
    "pytorch_graph_unified == keras_graph_unified"
   ]
  }
 ],
 "metadata": {
  "kernelspec": {
   "display_name": "Python 3 (ipykernel)",
   "language": "python",
   "name": "python3"
  },
  "language_info": {
   "codemirror_mode": {
    "name": "ipython",
    "version": 3
   },
   "file_extension": ".py",
   "mimetype": "text/x-python",
   "name": "python",
   "nbconvert_exporter": "python",
   "pygments_lexer": "ipython3",
   "version": "3.8.5"
  }
 },
 "nbformat": 4,
 "nbformat_minor": 1
}
